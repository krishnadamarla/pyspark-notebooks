{
 "cells": [
  {
   "cell_type": "markdown",
   "metadata": {},
   "source": [
    "## This notebook converts [stackoverflow data dump](https://archive.org/details/stackexchange) from XML files to parquet format"
   ]
  },
  {
   "cell_type": "code",
   "execution_count": null,
   "metadata": {
    "collapsed": true
   },
   "outputs": [],
   "source": [
    "from pyspark.sql.session import SparkSession\n",
    "from pyspark.sql.functions import *\n",
    "from pyspark.sql.types import *\n",
    "\n",
    "spark = (SparkSession.builder\n",
    "    .appName('stackoverflow')\n",
    "    .config('spark.local.dir', '/home/mario/tmp')\n",
    "    .getOrCreate())"
   ]
  },
  {
   "cell_type": "code",
   "execution_count": null,
   "metadata": {
    "collapsed": true
   },
   "outputs": [],
   "source": [
    "import re\n",
    "import html\n",
    "\n",
    "pattern = re.compile(' ([A-Za-z]+)=\"([^\"]*)\"')\n",
    "parse_line = lambda line: {key:value for key,value in pattern.findall(line)}\n",
    "unescape = udf(lambda escaped: html.unescape(escaped) if escaped else None)\n",
    "\n",
    "def read_tags_raw(tags_string): # converts <tag1><tag2> to ['tag1', 'tag2']\n",
    "    return html.unescape(tags_string).strip('>').strip('<').split('><') if tags_string else []\n",
    "    \n",
    "read_tags = udf(read_tags_raw, ArrayType(StringType()))"
   ]
  },
  {
   "cell_type": "code",
   "execution_count": null,
   "metadata": {
    "collapsed": true
   },
   "outputs": [],
   "source": [
    "# Badges\n",
    "\n",
    "spark.read.text('/home/stackoverflow/xml/Badges.xml').where(col('value').like('%<row Id%')) \\\n",
    "    .select(udf(parse_line, MapType(StringType(), StringType()))('value').alias('value')) \\\n",
    "    .select(\n",
    "        col('value.Id').cast('integer'),\n",
    "        col('value.UserId').cast('integer'),\n",
    "        col('value.Name'),\n",
    "        col('value.Date').cast('timestamp'),\n",
    "        col('value.Class').cast('integer'),\n",
    "        col('value.TagBased').cast('boolean')\n",
    "    ).repartition(5).write.parquet('/home/stackoverflow/parquet/Badges')"
   ]
  },
  {
   "cell_type": "code",
   "execution_count": null,
   "metadata": {
    "collapsed": true
   },
   "outputs": [],
   "source": [
    "# Comments\n",
    "\n",
    "spark.read.text('/home/stackoverflow/xml/Comments.xml').where(col('value').like('%<row Id%')) \\\n",
    "    .select(udf(parse_line, MapType(StringType(), StringType()))('value').alias('value')) \\\n",
    "    .select(\n",
    "        col('value.Id').cast('integer'),\n",
    "        col('value.PostId').cast('integer'),\n",
    "        col('value.Score').cast('integer'),\n",
    "        unescape('value.Text').alias('Text'),\n",
    "        col('value.CreationDate').cast('timestamp'),\n",
    "        col('value.UserId').cast('integer'),\n",
    "        col('value.UserDisplayName')\n",
    "    ).write.parquet('/home/stackoverflow/parquet/Comments')"
   ]
  },
  {
   "cell_type": "code",
   "execution_count": null,
   "metadata": {
    "collapsed": true
   },
   "outputs": [],
   "source": [
    "# PostHistory\n",
    "\n",
    "spark.read.text('/home/stackoverflow/xml/PostHistory.xml').where(col('value').like('%<row Id%')) \\\n",
    "    .select(udf(parse_line, MapType(StringType(), StringType()))('value').alias('value')) \\\n",
    "    .select(\n",
    "        col('value.Id').cast('integer'),\n",
    "        col('value.PostHistoryTypeId').cast('integer'),\n",
    "        col('value.PostId').cast('integer'),\n",
    "        col('value.RevisionGUID'),\n",
    "        col('value.CreationDate').cast('timestamp'),\n",
    "        col('value.UserId').cast('integer'),\n",
    "        unescape('value.Text').alias('Text'),\n",
    "        unescape('value.Comment').alias('Comment'),\n",
    "        col('value.UserDisplayName')\n",
    "    ).write.parquet('/home/stackoverflow/parquet/PostHistory')"
   ]
  },
  {
   "cell_type": "code",
   "execution_count": null,
   "metadata": {
    "collapsed": true
   },
   "outputs": [],
   "source": [
    "# PostLinks\n",
    "\n",
    "spark.read.text('/home/stackoverflow/xml/PostLinks.xml').where(col('value').like('%<row Id%')) \\\n",
    "    .select(udf(parse_line, MapType(StringType(), StringType()))('value').alias('value')) \\\n",
    "    .select(\n",
    "        col('value.Id').cast('integer'),\n",
    "        col('value.CreationDate').cast('timestamp'),\n",
    "        col('value.PostId').cast('integer'),\n",
    "        col('value.RelatedPostId').cast('integer'),\n",
    "        col('value.LinkTypeId').cast('integer')\n",
    "    ).repartition(2).write.parquet('/home/stackoverflow/parquet/PostLinks')"
   ]
  },
  {
   "cell_type": "code",
   "execution_count": null,
   "metadata": {
    "collapsed": true
   },
   "outputs": [],
   "source": [
    "# Posts\n",
    "\n",
    "spark.read.text('/home/stackoverflow/xml/Posts.xml').where(col('value').like('%<row Id%')) \\\n",
    "    .select(udf(parse_line, MapType(StringType(), StringType()))('value').alias('value')) \\\n",
    "    .select(\n",
    "        col('value.Id').cast('integer'),\n",
    "        col('value.ParentId').cast('integer'),\n",
    "        col('value.PostTypeId').cast('integer'),\n",
    "        col('value.CreationDate').cast('timestamp'),\n",
    "        col('value.Score').cast('integer'),\n",
    "        col('value.ViewCount').cast('integer'),\n",
    "        unescape('value.Body').alias('Body'),\n",
    "        col('value.OwnerUserId').cast('integer'),\n",
    "        col('value.LastActivityDate').cast('timestamp'),\n",
    "        unescape('value.Title').alias('Title'),\n",
    "        read_tags('value.Tags').alias('Tags'),\n",
    "        col('value.CommentCount').cast('integer'),\n",
    "        col('value.AnswerCount').cast('integer'),\n",
    "        col('value.LastEditDate').cast('timestamp'),\n",
    "        col('value.LastEditorUserId').cast('integer'),\n",
    "        col('value.AcceptedAnswerId').cast('integer'),\n",
    "        col('value.FavoriteCount').cast('integer'),\n",
    "        col('value.OwnerDisplayName'),\n",
    "        col('value.ClosedDate').cast('timestamp'),\n",
    "        col('value.LastEditorDisplayName'),\n",
    "        col('value.CommunityOwnedDate').cast('timestamp')\n",
    "    ).write.parquet('/home/stackoverflow/parquet/Posts')"
   ]
  },
  {
   "cell_type": "code",
   "execution_count": null,
   "metadata": {
    "collapsed": true
   },
   "outputs": [],
   "source": [
    "# Tags\n",
    "\n",
    "spark.read.text('/home/stackoverflow/xml/Tags.xml').where(col('value').like('%<row Id%')) \\\n",
    "    .select(udf(parse_line, MapType(StringType(), StringType()))('value').alias('value')) \\\n",
    "    .select(\n",
    "        col('value.Id').cast('integer'),\n",
    "        col('value.TagName'),\n",
    "        col('value.Count').cast('integer'),\n",
    "        col('value.ExcerptPostId').cast('integer'),\n",
    "        col('value.WikiPostId').cast('integer')\n",
    "    ).repartition(1).write.parquet('/home/stackoverflow/parquet/Tags')"
   ]
  },
  {
   "cell_type": "code",
   "execution_count": null,
   "metadata": {
    "collapsed": true
   },
   "outputs": [],
   "source": [
    "# Users\n",
    "\n",
    "spark.read.text('/home/stackoverflow/xml/Users.xml').where(col('value').like('%<row Id%')) \\\n",
    "    .select(udf(parse_line, MapType(StringType(), StringType()))('value').alias('value')) \\\n",
    "    .select(\n",
    "        col('value.Id').cast('integer'),\n",
    "        col('value.Reputation').cast('integer'),\n",
    "        col('value.CreationDate').cast('timestamp'),\n",
    "        col('value.DisplayName'),\n",
    "        col('value.LastAccessDate').cast('timestamp'),\n",
    "        col('value.WebsiteUrl'),\n",
    "        col('value.Location'),\n",
    "        unescape('value.AboutMe').alias('AboutMe'),\n",
    "        col('value.Views').cast('integer'),\n",
    "        col('value.UpVotes').cast('integer'),\n",
    "        col('value.DownVotes').cast('integer'),\n",
    "        col('value.ProfileImageUrl'),\n",
    "        col('value.Age').cast('integer'),\n",
    "        col('value.AccountId').cast('integer')\n",
    "    ).repartition(10).write.parquet('/home/stackoverflow/parquet/Users')"
   ]
  },
  {
   "cell_type": "code",
   "execution_count": null,
   "metadata": {
    "collapsed": true
   },
   "outputs": [],
   "source": [
    "# Votes\n",
    "\n",
    "spark.read.text('/home/stackoverflow/xml/Votes.xml').where(col('value').like('%<row Id%')) \\\n",
    "    .select(udf(parse_line, MapType(StringType(), StringType()))('value').alias('value')) \\\n",
    "    .select(\n",
    "        col('value.Id').cast('integer'),\n",
    "        col('value.PostId').cast('integer'),\n",
    "        col('value.VoteTypeId').cast('integer'),\n",
    "        col('value.UserId').cast('integer'),\n",
    "        col('value.CreationDate').cast('timestamp'),\n",
    "        col('value.BountyAmount').cast('integer')\n",
    "    ).repartition(20).write.parquet('/home/stackoverflow/parquet/Votes')"
   ]
  },
  {
   "cell_type": "code",
   "execution_count": null,
   "metadata": {
    "collapsed": true
   },
   "outputs": [],
   "source": [
    "# getting all keys used in file\n",
    "\n",
    "# spark.read.text('/home/stackoverflow/new/Tags.xml').where(col('value').like('%<row Id%')) \\\n",
    "#     .select(udf(parse_line, MapType(StringType(), StringType()))('value').alias('value')) \\\n",
    "#     .select(expr('map_keys(value)')).select(explode('map_keys(value)')).groupBy('col').count() \\\n",
    "#     .orderBy(desc('count')).show()"
   ]
  }
 ],
 "metadata": {
  "kernelspec": {
   "display_name": "Python 3",
   "language": "python",
   "name": "python3"
  },
  "language_info": {
   "codemirror_mode": {
    "name": "ipython",
    "version": 3
   },
   "file_extension": ".py",
   "mimetype": "text/x-python",
   "name": "python",
   "nbconvert_exporter": "python",
   "pygments_lexer": "ipython3",
   "version": "3.5.2"
  }
 },
 "nbformat": 4,
 "nbformat_minor": 2
}
